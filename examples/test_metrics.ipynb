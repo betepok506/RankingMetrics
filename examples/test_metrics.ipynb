{
 "cells": [
  {
   "cell_type": "code",
   "execution_count": null,
   "metadata": {
    "id": "sefXlRPDmJ-Y"
   },
   "outputs": [],
   "source": [
    "!pip install rank_bm25"
   ]
  },
  {
   "cell_type": "code",
   "execution_count": null,
   "metadata": {
    "id": "d-MiRUeFmmf9"
   },
   "outputs": [],
   "source": [
    "!pip install sentence_transformers"
   ]
  },
  {
   "cell_type": "code",
   "execution_count": null,
   "metadata": {
    "id": "8jsaqcJNmuiK"
   },
   "outputs": [],
   "source": [
    "!pip install datasets"
   ]
  },
  {
   "cell_type": "code",
   "execution_count": 1,
   "metadata": {
    "colab": {
     "base_uri": "https://localhost:8080/"
    },
    "id": "VibWzw5slyrM",
    "outputId": "a0942f0e-9e7a-4b2f-b55b-ae86724f1a11"
   },
   "outputs": [
    {
     "ename": "ModuleNotFoundError",
     "evalue": "No module named 'ranking_metrics'",
     "output_type": "error",
     "traceback": [
      "\u001b[0;31m---------------------------------------------------------------------------\u001b[0m",
      "\u001b[0;31mModuleNotFoundError\u001b[0m                       Traceback (most recent call last)",
      "Cell \u001b[0;32mIn[1], line 6\u001b[0m\n\u001b[1;32m      4\u001b[0m \u001b[38;5;28;01mimport\u001b[39;00m \u001b[38;5;21;01mpickle\u001b[39;00m\n\u001b[1;32m      5\u001b[0m \u001b[38;5;28;01mimport\u001b[39;00m \u001b[38;5;21;01mimportlib\u001b[39;00m\n\u001b[0;32m----> 6\u001b[0m \u001b[38;5;28;01mimport\u001b[39;00m \u001b[38;5;21;01mranking_metrics\u001b[39;00m\u001b[38;5;241m,\u001b[39m \u001b[38;5;21;01mevaluation_metrics\u001b[39;00m\n\u001b[1;32m      8\u001b[0m \u001b[38;5;28;01mfrom\u001b[39;00m \u001b[38;5;21;01mtransformers\u001b[39;00m \u001b[38;5;28;01mimport\u001b[39;00m GPT2LMHeadModel, GPT2Tokenizer\n\u001b[1;32m      9\u001b[0m \u001b[38;5;28;01mfrom\u001b[39;00m \u001b[38;5;21;01mtqdm\u001b[39;00m \u001b[38;5;28;01mimport\u001b[39;00m tqdm\n",
      "\u001b[0;31mModuleNotFoundError\u001b[0m: No module named 'ranking_metrics'"
     ]
    }
   ],
   "source": [
    "import pandas as pd\n",
    "import torch\n",
    "import numpy as np\n",
    "import pickle\n",
    "import importlib\n",
    "import ranking_metrics, evaluation_metrics\n",
    "\n",
    "from transformers import GPT2LMHeadModel, GPT2Tokenizer\n",
    "from tqdm import tqdm\n",
    "from datasets import load_dataset\n",
    "from sentence_transformers import SentenceTransformer, util\n",
    "from ranking_metrics import (\n",
    "    RankingMetrics,\n",
    "    Bm25,\n",
    "    LaBSE,\n",
    "    MsMarcoST,\n",
    "    MsMarcoCE  \n",
    ")\n",
    "\n",
    "importlib.reload(evaluation_metrics)\n",
    "importlib.reload(ranking_metrics)\n",
    "\n",
    "\n",
    "np.random.seed(42)\n",
    "torch.manual_seed(42)"
   ]
  },
  {
   "cell_type": "code",
   "execution_count": 8,
   "metadata": {
    "id": "2-EGKoI_mHQw"
   },
   "outputs": [],
   "source": [
    "def preprocess_df(df):\n",
    "    ans_norm = []\n",
    "    selected = []\n",
    "    for row in df.iterrows():\n",
    "        try:\n",
    "            ans_norm.append(row[1][\"answers\"][0])\n",
    "        except IndexError:\n",
    "            ans_norm.append(None)\n",
    "        selected.append(row[1][\"passages\"][\"is_selected\"])\n",
    "    df[\"answers_norm\"] = ans_norm\n",
    "    df[\"selected\"] = selected\n",
    "    df.dropna(inplace=True)\n",
    "    return df\n",
    "\n",
    "\n",
    "def save_gen_text(queries, generated_answers):\n",
    "    query_ans_dict = {k: v for k, v in zip(queries, generated_answers)}\n",
    "    with open(f'generated_text_large.pickle', 'wb') as f:\n",
    "        pickle.dump(query_ans_dict, f)\n",
    "        \n",
    "\n",
    "def load_tokenizer_and_model(model_name_or_path):\n",
    "    return GPT2Tokenizer.from_pretrained(model_name_or_path), GPT2LMHeadModel.from_pretrained(model_name_or_path).to(device)\n",
    "\n",
    "\n",
    "def generate(\n",
    "    model, tok, text,\n",
    "    do_sample=True, max_length=60, repetition_penalty=5.0,\n",
    "    top_k=5, top_p=0.95, temperature=1,\n",
    "    num_beams=None,\n",
    "    no_repeat_ngram_size=3\n",
    "):\n",
    "    input_ids = tok.encode(text, return_tensors=\"pt\").to(device)\n",
    "    out = model.generate(\n",
    "        input_ids.to(device), \n",
    "        min_length=2, \n",
    "        max_length=max_length, \n",
    "        eos_token_id=5, \n",
    "        # pad_token=1,\n",
    "        top_k = top_k,\n",
    "        top_p = top_p,\n",
    "        no_repeat_ngram_size=no_repeat_ngram_size,\n",
    "        num_beams=num_beams\n",
    "      )\n",
    "    return list(map(tok.decode, out))\n",
    "\n",
    "\n",
    "def preprocess_get_text(sent: str):\n",
    "    sent = sent.replace(\"?/A:\", \"\")\n",
    "    sent = sent.replace('\\n', '')\n",
    "    return sent"
   ]
  },
  {
   "cell_type": "code",
   "execution_count": 9,
   "metadata": {
    "colab": {
     "base_uri": "https://localhost:8080/",
     "height": 51,
     "referenced_widgets": [
      "8ffa25f5f302466b878cdf41a2abe3d2",
      "e13915c5d4144f92b9653f1054d6cb02",
      "0609beccc4754c0f825452acda25c493",
      "b0a9faa183134991b956aa9955539744",
      "3323dd85153e4fbebe5bec31af7eb013",
      "cd42170ffdea4e059b12aa25006c5420",
      "201e88b996bc4ddeb40ba1ee31800832",
      "650582a1ca584e3ba2464f54b5733eed",
      "ce9a446c4ea84a55b90d7049be41c21d",
      "0844a9b2537c49efa110ef6d83e15b5d",
      "dfb9343116234feeb793755883ad23e6"
     ]
    },
    "id": "tcCIbjRqnCmH",
    "outputId": "5ff48e71-808d-4e6b-e02f-9bcd6e97ff7d"
   },
   "outputs": [
    {
     "data": {
      "application/vnd.jupyter.widget-view+json": {
       "model_id": "8ffa25f5f302466b878cdf41a2abe3d2",
       "version_major": 2,
       "version_minor": 0
      },
      "text/plain": [
       "Downloading builder script:   0%|          | 0.00/8.52k [00:00<?, ?B/s]"
      ]
     },
     "metadata": {},
     "output_type": "display_data"
    },
    {
     "data": {
      "application/vnd.jupyter.widget-view+json": {
       "model_id": "e13915c5d4144f92b9653f1054d6cb02",
       "version_major": 2,
       "version_minor": 0
      },
      "text/plain": [
       "Downloading metadata:   0%|          | 0.00/8.15k [00:00<?, ?B/s]"
      ]
     },
     "metadata": {},
     "output_type": "display_data"
    },
    {
     "data": {
      "application/vnd.jupyter.widget-view+json": {
       "model_id": "0609beccc4754c0f825452acda25c493",
       "version_major": 2,
       "version_minor": 0
      },
      "text/plain": [
       "Downloading readme:   0%|          | 0.00/9.15k [00:00<?, ?B/s]"
      ]
     },
     "metadata": {},
     "output_type": "display_data"
    },
    {
     "name": "stdout",
     "output_type": "stream",
     "text": [
      "Downloading and preparing dataset ms_marco/v1.1 to /root/.cache/huggingface/datasets/ms_marco/v1.1/1.1.0/b6a62715fa5219aea5275dd3556601004cd63945cb63e36e022f77bb3cbbca84...\n"
     ]
    },
    {
     "data": {
      "application/vnd.jupyter.widget-view+json": {
       "model_id": "b0a9faa183134991b956aa9955539744",
       "version_major": 2,
       "version_minor": 0
      },
      "text/plain": [
       "Downloading data files:   0%|          | 0/3 [00:00<?, ?it/s]"
      ]
     },
     "metadata": {},
     "output_type": "display_data"
    },
    {
     "data": {
      "application/vnd.jupyter.widget-view+json": {
       "model_id": "3323dd85153e4fbebe5bec31af7eb013",
       "version_major": 2,
       "version_minor": 0
      },
      "text/plain": [
       "Downloading data:   0%|          | 0.00/111M [00:00<?, ?B/s]"
      ]
     },
     "metadata": {},
     "output_type": "display_data"
    },
    {
     "data": {
      "application/vnd.jupyter.widget-view+json": {
       "model_id": "cd42170ffdea4e059b12aa25006c5420",
       "version_major": 2,
       "version_minor": 0
      },
      "text/plain": [
       "Downloading data:   0%|          | 0.00/13.5M [00:00<?, ?B/s]"
      ]
     },
     "metadata": {},
     "output_type": "display_data"
    },
    {
     "data": {
      "application/vnd.jupyter.widget-view+json": {
       "model_id": "201e88b996bc4ddeb40ba1ee31800832",
       "version_major": 2,
       "version_minor": 0
      },
      "text/plain": [
       "Downloading data:   0%|          | 0.00/44.5M [00:00<?, ?B/s]"
      ]
     },
     "metadata": {},
     "output_type": "display_data"
    },
    {
     "data": {
      "application/vnd.jupyter.widget-view+json": {
       "model_id": "650582a1ca584e3ba2464f54b5733eed",
       "version_major": 2,
       "version_minor": 0
      },
      "text/plain": [
       "Extracting data files:   0%|          | 0/3 [00:00<?, ?it/s]"
      ]
     },
     "metadata": {},
     "output_type": "display_data"
    },
    {
     "data": {
      "application/vnd.jupyter.widget-view+json": {
       "model_id": "ce9a446c4ea84a55b90d7049be41c21d",
       "version_major": 2,
       "version_minor": 0
      },
      "text/plain": [
       "Generating validation split:   0%|          | 0/10047 [00:00<?, ? examples/s]"
      ]
     },
     "metadata": {},
     "output_type": "display_data"
    },
    {
     "data": {
      "application/vnd.jupyter.widget-view+json": {
       "model_id": "0844a9b2537c49efa110ef6d83e15b5d",
       "version_major": 2,
       "version_minor": 0
      },
      "text/plain": [
       "Generating train split:   0%|          | 0/82326 [00:00<?, ? examples/s]"
      ]
     },
     "metadata": {},
     "output_type": "display_data"
    },
    {
     "data": {
      "application/vnd.jupyter.widget-view+json": {
       "model_id": "dfb9343116234feeb793755883ad23e6",
       "version_major": 2,
       "version_minor": 0
      },
      "text/plain": [
       "Generating test split:   0%|          | 0/9650 [00:00<?, ? examples/s]"
      ]
     },
     "metadata": {},
     "output_type": "display_data"
    },
    {
     "name": "stdout",
     "output_type": "stream",
     "text": [
      "Dataset ms_marco downloaded and prepared to /root/.cache/huggingface/datasets/ms_marco/v1.1/1.1.0/b6a62715fa5219aea5275dd3556601004cd63945cb63e36e022f77bb3cbbca84. Subsequent calls will reuse this data.\n"
     ]
    }
   ],
   "source": [
    "dataset = load_dataset('ms_marco', 'v1.1', split='train')\n",
    "df_train_dirty = dataset.to_pandas()\n",
    "df_train = preprocess_df(df_train_dirty)"
   ]
  },
  {
   "cell_type": "code",
   "execution_count": 10,
   "metadata": {
    "colab": {
     "base_uri": "https://localhost:8080/",
     "height": 142
    },
    "id": "kA9cw3pDnE1w",
    "outputId": "5d0a6433-1d80-43ac-ed22-62c0fe7792c7"
   },
   "outputs": [
    {
     "data": {
      "text/html": [
       "\n",
       "  <div id=\"df-a5944b13-7ef5-4fee-9053-92f201a8c53b\">\n",
       "    <div class=\"colab-df-container\">\n",
       "      <div>\n",
       "<style scoped>\n",
       "    .dataframe tbody tr th:only-of-type {\n",
       "        vertical-align: middle;\n",
       "    }\n",
       "\n",
       "    .dataframe tbody tr th {\n",
       "        vertical-align: top;\n",
       "    }\n",
       "\n",
       "    .dataframe thead th {\n",
       "        text-align: right;\n",
       "    }\n",
       "</style>\n",
       "<table border=\"1\" class=\"dataframe\">\n",
       "  <thead>\n",
       "    <tr style=\"text-align: right;\">\n",
       "      <th></th>\n",
       "      <th>answers</th>\n",
       "      <th>passages</th>\n",
       "      <th>query</th>\n",
       "      <th>query_id</th>\n",
       "      <th>query_type</th>\n",
       "      <th>wellFormedAnswers</th>\n",
       "      <th>answers_norm</th>\n",
       "      <th>selected</th>\n",
       "    </tr>\n",
       "  </thead>\n",
       "  <tbody>\n",
       "    <tr>\n",
       "      <th>0</th>\n",
       "      <td>[Results-Based Accountability is a disciplined...</td>\n",
       "      <td>{'is_selected': [0, 0, 0, 0, 0, 1, 0, 0, 0, 0]...</td>\n",
       "      <td>what is rba</td>\n",
       "      <td>19699</td>\n",
       "      <td>description</td>\n",
       "      <td>[]</td>\n",
       "      <td>Results-Based Accountability is a disciplined ...</td>\n",
       "      <td>[0, 0, 0, 0, 0, 1, 0, 0, 0, 0]</td>\n",
       "    </tr>\n",
       "    <tr>\n",
       "      <th>1</th>\n",
       "      <td>[Yes]</td>\n",
       "      <td>{'is_selected': [0, 1, 0, 0, 0, 0, 0], 'passag...</td>\n",
       "      <td>was ronald reagan a democrat</td>\n",
       "      <td>19700</td>\n",
       "      <td>description</td>\n",
       "      <td>[]</td>\n",
       "      <td>Yes</td>\n",
       "      <td>[0, 1, 0, 0, 0, 0, 0]</td>\n",
       "    </tr>\n",
       "    <tr>\n",
       "      <th>2</th>\n",
       "      <td>[20-25 minutes]</td>\n",
       "      <td>{'is_selected': [0, 0, 0, 0, 1, 0, 0, 0, 0, 0]...</td>\n",
       "      <td>how long do you need for sydney and surroundin...</td>\n",
       "      <td>19701</td>\n",
       "      <td>numeric</td>\n",
       "      <td>[]</td>\n",
       "      <td>20-25 minutes</td>\n",
       "      <td>[0, 0, 0, 0, 1, 0, 0, 0, 0, 0]</td>\n",
       "    </tr>\n",
       "  </tbody>\n",
       "</table>\n",
       "</div>\n",
       "      <button class=\"colab-df-convert\" onclick=\"convertToInteractive('df-a5944b13-7ef5-4fee-9053-92f201a8c53b')\"\n",
       "              title=\"Convert this dataframe to an interactive table.\"\n",
       "              style=\"display:none;\">\n",
       "        \n",
       "  <svg xmlns=\"http://www.w3.org/2000/svg\" height=\"24px\"viewBox=\"0 0 24 24\"\n",
       "       width=\"24px\">\n",
       "    <path d=\"M0 0h24v24H0V0z\" fill=\"none\"/>\n",
       "    <path d=\"M18.56 5.44l.94 2.06.94-2.06 2.06-.94-2.06-.94-.94-2.06-.94 2.06-2.06.94zm-11 1L8.5 8.5l.94-2.06 2.06-.94-2.06-.94L8.5 2.5l-.94 2.06-2.06.94zm10 10l.94 2.06.94-2.06 2.06-.94-2.06-.94-.94-2.06-.94 2.06-2.06.94z\"/><path d=\"M17.41 7.96l-1.37-1.37c-.4-.4-.92-.59-1.43-.59-.52 0-1.04.2-1.43.59L10.3 9.45l-7.72 7.72c-.78.78-.78 2.05 0 2.83L4 21.41c.39.39.9.59 1.41.59.51 0 1.02-.2 1.41-.59l7.78-7.78 2.81-2.81c.8-.78.8-2.07 0-2.86zM5.41 20L4 18.59l7.72-7.72 1.47 1.35L5.41 20z\"/>\n",
       "  </svg>\n",
       "      </button>\n",
       "      \n",
       "  <style>\n",
       "    .colab-df-container {\n",
       "      display:flex;\n",
       "      flex-wrap:wrap;\n",
       "      gap: 12px;\n",
       "    }\n",
       "\n",
       "    .colab-df-convert {\n",
       "      background-color: #E8F0FE;\n",
       "      border: none;\n",
       "      border-radius: 50%;\n",
       "      cursor: pointer;\n",
       "      display: none;\n",
       "      fill: #1967D2;\n",
       "      height: 32px;\n",
       "      padding: 0 0 0 0;\n",
       "      width: 32px;\n",
       "    }\n",
       "\n",
       "    .colab-df-convert:hover {\n",
       "      background-color: #E2EBFA;\n",
       "      box-shadow: 0px 1px 2px rgba(60, 64, 67, 0.3), 0px 1px 3px 1px rgba(60, 64, 67, 0.15);\n",
       "      fill: #174EA6;\n",
       "    }\n",
       "\n",
       "    [theme=dark] .colab-df-convert {\n",
       "      background-color: #3B4455;\n",
       "      fill: #D2E3FC;\n",
       "    }\n",
       "\n",
       "    [theme=dark] .colab-df-convert:hover {\n",
       "      background-color: #434B5C;\n",
       "      box-shadow: 0px 1px 3px 1px rgba(0, 0, 0, 0.15);\n",
       "      filter: drop-shadow(0px 1px 2px rgba(0, 0, 0, 0.3));\n",
       "      fill: #FFFFFF;\n",
       "    }\n",
       "  </style>\n",
       "\n",
       "      <script>\n",
       "        const buttonEl =\n",
       "          document.querySelector('#df-a5944b13-7ef5-4fee-9053-92f201a8c53b button.colab-df-convert');\n",
       "        buttonEl.style.display =\n",
       "          google.colab.kernel.accessAllowed ? 'block' : 'none';\n",
       "\n",
       "        async function convertToInteractive(key) {\n",
       "          const element = document.querySelector('#df-a5944b13-7ef5-4fee-9053-92f201a8c53b');\n",
       "          const dataTable =\n",
       "            await google.colab.kernel.invokeFunction('convertToInteractive',\n",
       "                                                     [key], {});\n",
       "          if (!dataTable) return;\n",
       "\n",
       "          const docLinkHtml = 'Like what you see? Visit the ' +\n",
       "            '<a target=\"_blank\" href=https://colab.research.google.com/notebooks/data_table.ipynb>data table notebook</a>'\n",
       "            + ' to learn more about interactive tables.';\n",
       "          element.innerHTML = '';\n",
       "          dataTable['output_type'] = 'display_data';\n",
       "          await google.colab.output.renderOutput(dataTable, element);\n",
       "          const docLink = document.createElement('div');\n",
       "          docLink.innerHTML = docLinkHtml;\n",
       "          element.appendChild(docLink);\n",
       "        }\n",
       "      </script>\n",
       "    </div>\n",
       "  </div>\n",
       "  "
      ],
      "text/plain": [
       "                                             answers  \\\n",
       "0  [Results-Based Accountability is a disciplined...   \n",
       "1                                              [Yes]   \n",
       "2                                    [20-25 minutes]   \n",
       "\n",
       "                                            passages  \\\n",
       "0  {'is_selected': [0, 0, 0, 0, 0, 1, 0, 0, 0, 0]...   \n",
       "1  {'is_selected': [0, 1, 0, 0, 0, 0, 0], 'passag...   \n",
       "2  {'is_selected': [0, 0, 0, 0, 1, 0, 0, 0, 0, 0]...   \n",
       "\n",
       "                                               query  query_id   query_type  \\\n",
       "0                                        what is rba     19699  description   \n",
       "1                       was ronald reagan a democrat     19700  description   \n",
       "2  how long do you need for sydney and surroundin...     19701      numeric   \n",
       "\n",
       "  wellFormedAnswers                                       answers_norm  \\\n",
       "0                []  Results-Based Accountability is a disciplined ...   \n",
       "1                []                                                Yes   \n",
       "2                []                                      20-25 minutes   \n",
       "\n",
       "                         selected  \n",
       "0  [0, 0, 0, 0, 0, 1, 0, 0, 0, 0]  \n",
       "1           [0, 1, 0, 0, 0, 0, 0]  \n",
       "2  [0, 0, 0, 0, 1, 0, 0, 0, 0, 0]  "
      ]
     },
     "execution_count": 10,
     "metadata": {},
     "output_type": "execute_result"
    }
   ],
   "source": [
    "df_train.head(3)"
   ]
  },
  {
   "cell_type": "code",
   "execution_count": 11,
   "metadata": {
    "id": "NogZrhQInHhG"
   },
   "outputs": [],
   "source": [
    "if torch.has_mps:\n",
    "    device = torch.device(\"mps\")\n",
    "elif torch.cuda.is_available():\n",
    "    device = torch.device(\"cuda\")\n",
    "else:\n",
    "    device = torch.device(\"cpu\")"
   ]
  },
  {
   "cell_type": "code",
   "execution_count": 12,
   "metadata": {
    "id": "HR0Cgor2nMc8"
   },
   "outputs": [],
   "source": [
    "NUM_ROWS = 100\n",
    "\n",
    "queries = df_train[\"query\"].values[0:NUM_ROWS]"
   ]
  },
  {
   "cell_type": "code",
   "execution_count": 13,
   "metadata": {
    "colab": {
     "base_uri": "https://localhost:8080/",
     "height": 145,
     "referenced_widgets": [
      "2ba24264c64a4d5a92a1ace52d576bf8",
      "8ccba999ec4446048b0ab10feeeb7211",
      "23aa56d88aff4166880b3607fafdf533",
      "f23f674de04044c4bd54479258686e03",
      "ae80d0d9287142c3ac2c151ca9f77f2e",
      "adba55befe194217bfca3c79e75cac2b",
      "6639e6890a1c4e3785fa5eb097ccc1ca",
      "fa6999b192964fd0afb40fea2ce6c696",
      "1185b5421ff542cfa92c282198adea73",
      "40710616999f442a91c112d9d1b83245",
      "c4111741612c41ddbec7b31cf151c287",
      "0efd1083e6d942048079ac502683b709",
      "2bdbda62191b44d68cd7016e5ebb726b",
      "3cb4fe7a962f4c0492694ee7bd7ef430",
      "3bb7b11d8bbd4087a37ca8a26485bd39",
      "735a75564f97463c9acaa49080b5a63e",
      "a5455995b89b486bb28a8c52cf543bd8",
      "172e73fcbd9549e6a22cd1ae4d8f278f",
      "66f1bf5589b24901829e8a4dd81fae52",
      "291f3969fd584872add3a52afd3cbb14",
      "9613dc19ceac423abdaaf076efac5f7a",
      "4898316297fa41d0ba0170c6d059e401",
      "b48ec52507564295a918d8b13b845e00",
      "08db9bf0dd5a4557a6b7516735964e23",
      "45054aa9679044d5ab2435dced633de6",
      "21bf4300c72345b692a05e29ef63d9cf",
      "797fb865b041401c8f10a5deff7b7621",
      "8a91bb1fab6440fe9a5339c454dd4c7d",
      "ea2e4e65713c46f684a80451876c5ca3",
      "51ef8cac40864173b986657ba5917cce",
      "08c5a46d6fba437a8bee1f5c575c98fe",
      "62dd6e4c1bba4ab68bc08bae49039ade",
      "a3a50f93831d4a60b9f3117ffeb5ca12",
      "bce71cc5a4034d2c86116df3eb65630e",
      "7bb1c36ac9aa422fb52e029f48bac821",
      "ef9171d724e54b34b4d0235393323ead",
      "4afefbd12b30431ba6308eb7bc6e6c01",
      "6a2c149473f54bd0a732c645f3c8e875",
      "5902ccb48499482d87191082aaaee1a4",
      "1b8aa32fb8254a168603a8d4ad268acc",
      "494f0859bf314807a8ecedc36999509a",
      "98c71408b56e401e9547e65e1995f015",
      "264c186710794eaf8c224a2fe093baf4",
      "8a4045b462914055980d763ddbcbb560"
     ]
    },
    "id": "awh5PhrVnOdy",
    "outputId": "b5eb9a78-2197-40ca-aa2b-3945fbd82059"
   },
   "outputs": [
    {
     "data": {
      "application/vnd.jupyter.widget-view+json": {
       "model_id": "2ba24264c64a4d5a92a1ace52d576bf8",
       "version_major": 2,
       "version_minor": 0
      },
      "text/plain": [
       "Downloading (…)olve/main/vocab.json:   0%|          | 0.00/1.61M [00:00<?, ?B/s]"
      ]
     },
     "metadata": {},
     "output_type": "display_data"
    },
    {
     "data": {
      "application/vnd.jupyter.widget-view+json": {
       "model_id": "0efd1083e6d942048079ac502683b709",
       "version_major": 2,
       "version_minor": 0
      },
      "text/plain": [
       "Downloading (…)olve/main/merges.txt:   0%|          | 0.00/1.27M [00:00<?, ?B/s]"
      ]
     },
     "metadata": {},
     "output_type": "display_data"
    },
    {
     "data": {
      "application/vnd.jupyter.widget-view+json": {
       "model_id": "b48ec52507564295a918d8b13b845e00",
       "version_major": 2,
       "version_minor": 0
      },
      "text/plain": [
       "Downloading (…)lve/main/config.json:   0%|          | 0.00/674 [00:00<?, ?B/s]"
      ]
     },
     "metadata": {},
     "output_type": "display_data"
    },
    {
     "data": {
      "application/vnd.jupyter.widget-view+json": {
       "model_id": "bce71cc5a4034d2c86116df3eb65630e",
       "version_major": 2,
       "version_minor": 0
      },
      "text/plain": [
       "Downloading pytorch_model.bin:   0%|          | 0.00/1.73G [00:00<?, ?B/s]"
      ]
     },
     "metadata": {},
     "output_type": "display_data"
    }
   ],
   "source": [
    "tok, model = load_tokenizer_and_model(\"sberbank-ai/rugpt3medium_based_on_gpt2\")"
   ]
  },
  {
   "cell_type": "code",
   "execution_count": null,
   "metadata": {
    "id": "Z-NFNBsInP9t"
   },
   "outputs": [],
   "source": [
    "generated_answers = []\n",
    "\n",
    "for query in queries:\n",
    "    generated = generate(model, tok, query + \" \", num_beams=5, max_length=60)\n",
    "    generated_answers.append(generated[0][len(query):])"
   ]
  },
  {
   "cell_type": "code",
   "execution_count": null,
   "metadata": {
    "id": "f7jmuBU8p0_X"
   },
   "outputs": [],
   "source": [
    "save_gen_text(queries, generated_answers)"
   ]
  },
  {
   "cell_type": "code",
   "execution_count": 14,
   "metadata": {
    "id": "xiLWMYSzr2_P"
   },
   "outputs": [],
   "source": [
    "# Если уже есть файл с фейковыми текстами, то просто загружаем его\n",
    "\n",
    "with open('generated_text_large.pickle', 'rb') as f:\n",
    "    generated_text = pickle.load(f)\n",
    "\n",
    "generated_answers = list(generated_text.values())"
   ]
  },
  {
   "cell_type": "code",
   "execution_count": 16,
   "metadata": {
    "colab": {
     "base_uri": "https://localhost:8080/"
    },
    "id": "JMwSdqvnsBgp",
    "outputId": "7091e670-aaea-448c-a0cf-189d805761c6"
   },
   "outputs": [
    {
     "data": {
      "text/plain": [
       "5000"
      ]
     },
     "execution_count": 16,
     "metadata": {},
     "output_type": "execute_result"
    }
   ],
   "source": [
    "len(generated_answers)"
   ]
  },
  {
   "cell_type": "code",
   "execution_count": 17,
   "metadata": {
    "id": "qgFt0fDwp4Ss"
   },
   "outputs": [],
   "source": [
    "generated_answers_proc = [preprocess_get_text(s) for s in generated_answers]"
   ]
  },
  {
   "cell_type": "code",
   "execution_count": 18,
   "metadata": {
    "id": "Oj3H9jSMq9yF"
   },
   "outputs": [],
   "source": [
    "def make_data_for_preds(df, gen_ans):\n",
    "    df_tmp = df.copy()\n",
    "    df_tmp[\"gen_answers\"] = gen_ans\n",
    "    data = []\n",
    "    for row in df_tmp.iterrows():\n",
    "        tmp_dict = {}\n",
    "        \n",
    "        texts = row[1][\"passages\"][\"passage_text\"].tolist()\n",
    "        texts.append(row[1][\"gen_answers\"])\n",
    "\n",
    "        query = row[1][\"query\"]\n",
    "        \n",
    "        is_selected = row[1][\"selected\"].tolist()\n",
    "        is_selected.append(-1)\n",
    "        \n",
    "        tmp_dict[\"query\"] = query\n",
    "        tmp_dict[\"passage_text\"] = texts\n",
    "        tmp_dict[\"is_selected\"] = is_selected\n",
    "        data.append(tmp_dict)\n",
    "    return data"
   ]
  },
  {
   "cell_type": "code",
   "execution_count": 19,
   "metadata": {
    "id": "Gk58FuRsrATs"
   },
   "outputs": [],
   "source": [
    "data = make_data_for_preds(df_train[:len(generated_answers_proc)], generated_answers_proc)"
   ]
  },
  {
   "cell_type": "code",
   "execution_count": 24,
   "metadata": {
    "colab": {
     "base_uri": "https://localhost:8080/"
    },
    "id": "ztplMSWwyP9m",
    "outputId": "681048f9-7c94-4eb8-d232-f139184846c4"
   },
   "outputs": [
    {
     "name": "stderr",
     "output_type": "stream",
     "text": [
      "1001it [03:13,  5.32it/s]"
     ]
    },
    {
     "name": "stdout",
     "output_type": "stream",
     "text": [
      "Bm25_AverageLoc: 7.42   MsMarcoCE_AverageLoc: 8.65   LaBSE_AverageLoc: 7.22   MsMarcoST_AverageLoc: 8.72   \n",
      "-----------------------------\n",
      "Bm25_AverageRelLoc: 0.8   MsMarcoCE_AverageRelLoc: 0.93   LaBSE_AverageRelLoc: 0.79   MsMarcoST_AverageRelLoc: 0.94   \n",
      "-----------------------------\n",
      "Bm25_Top@1: 0.08   MsMarcoCE_Top@1: 0.02   LaBSE_Top@1: 0.08   MsMarcoST_Top@1: 0.01   \n",
      "Bm25_Top@3: 0.16   MsMarcoCE_Top@3: 0.03   LaBSE_Top@3: 0.16   MsMarcoST_Top@3: 0.04   \n",
      "Bm25_Top@5: 0.24   MsMarcoCE_Top@5: 0.09   LaBSE_Top@5: 0.26   MsMarcoST_Top@5: 0.09   \n",
      "-----------------------------\n",
      "Bm25_FDARO@v1: 0.203   MsMarcoCE_FDARO@v1: 0.038   LaBSE_FDARO@v1: 0.198   MsMarcoST_FDARO@v1: 0.03   \n",
      "Bm25_FDARO@v2: 0.209   MsMarcoCE_FDARO@v2: 0.042   LaBSE_FDARO@v2: 0.204   MsMarcoST_FDARO@v2: 0.033   \n",
      "-----------------------------\n",
      "Bm25_UpQuartile: 0.16   MsMarcoCE_UpQuartile: 0.03   LaBSE_UpQuartile: 0.16   MsMarcoST_UpQuartile: 0.03   \n",
      "\n",
      "\n"
     ]
    },
    {
     "name": "stderr",
     "output_type": "stream",
     "text": [
      "2001it [06:29,  5.92it/s]"
     ]
    },
    {
     "name": "stdout",
     "output_type": "stream",
     "text": [
      "Bm25_AverageLoc: 7.43   MsMarcoCE_AverageLoc: 8.63   LaBSE_AverageLoc: 7.26   MsMarcoST_AverageLoc: 8.69   \n",
      "-----------------------------\n",
      "Bm25_AverageRelLoc: 0.8   MsMarcoCE_AverageRelLoc: 0.93   LaBSE_AverageRelLoc: 0.79   MsMarcoST_AverageRelLoc: 0.94   \n",
      "-----------------------------\n",
      "Bm25_Top@1: 0.08   MsMarcoCE_Top@1: 0.01   LaBSE_Top@1: 0.08   MsMarcoST_Top@1: 0.01   \n",
      "Bm25_Top@3: 0.16   MsMarcoCE_Top@3: 0.03   LaBSE_Top@3: 0.17   MsMarcoST_Top@3: 0.03   \n",
      "Bm25_Top@5: 0.24   MsMarcoCE_Top@5: 0.09   LaBSE_Top@5: 0.25   MsMarcoST_Top@5: 0.09   \n",
      "-----------------------------\n",
      "Bm25_FDARO@v1: 0.1935   MsMarcoCE_FDARO@v1: 0.035   LaBSE_FDARO@v1: 0.189   MsMarcoST_FDARO@v1: 0.0275   \n",
      "Bm25_FDARO@v2: 0.2015   MsMarcoCE_FDARO@v2: 0.039   LaBSE_FDARO@v2: 0.196   MsMarcoST_FDARO@v2: 0.0305   \n",
      "-----------------------------\n",
      "Bm25_UpQuartile: 0.16   MsMarcoCE_UpQuartile: 0.03   LaBSE_UpQuartile: 0.15   MsMarcoST_UpQuartile: 0.03   \n",
      "\n",
      "\n"
     ]
    },
    {
     "name": "stderr",
     "output_type": "stream",
     "text": [
      "3000it [09:43,  4.89it/s]"
     ]
    },
    {
     "name": "stdout",
     "output_type": "stream",
     "text": [
      "Bm25_AverageLoc: 7.44   MsMarcoCE_AverageLoc: 8.62   LaBSE_AverageLoc: 7.28   MsMarcoST_AverageLoc: 8.71   \n",
      "-----------------------------\n",
      "Bm25_AverageRelLoc: 0.8   MsMarcoCE_AverageRelLoc: 0.93   LaBSE_AverageRelLoc: 0.79   MsMarcoST_AverageRelLoc: 0.94   \n",
      "-----------------------------\n",
      "Bm25_Top@1: 0.08   MsMarcoCE_Top@1: 0.01   LaBSE_Top@1: 0.08   MsMarcoST_Top@1: 0.01   \n",
      "Bm25_Top@3: 0.16   MsMarcoCE_Top@3: 0.04   LaBSE_Top@3: 0.16   MsMarcoST_Top@3: 0.03   \n",
      "Bm25_Top@5: 0.23   MsMarcoCE_Top@5: 0.09   LaBSE_Top@5: 0.25   MsMarcoST_Top@5: 0.08   \n",
      "-----------------------------\n",
      "Bm25_FDARO@v1: 0.1907   MsMarcoCE_FDARO@v1: 0.0363   LaBSE_FDARO@v1: 0.1863   MsMarcoST_FDARO@v1: 0.0293   \n",
      "Bm25_FDARO@v2: 0.2017   MsMarcoCE_FDARO@v2: 0.0393   LaBSE_FDARO@v2: 0.192   MsMarcoST_FDARO@v2: 0.0317   \n",
      "-----------------------------\n",
      "Bm25_UpQuartile: 0.16   MsMarcoCE_UpQuartile: 0.03   LaBSE_UpQuartile: 0.15   MsMarcoST_UpQuartile: 0.03   \n",
      "\n",
      "\n"
     ]
    },
    {
     "name": "stderr",
     "output_type": "stream",
     "text": [
      "4000it [12:56,  6.69it/s]"
     ]
    },
    {
     "name": "stdout",
     "output_type": "stream",
     "text": [
      "Bm25_AverageLoc: 7.49   MsMarcoCE_AverageLoc: 8.63   LaBSE_AverageLoc: 7.34   MsMarcoST_AverageLoc: 8.72   \n",
      "-----------------------------\n",
      "Bm25_AverageRelLoc: 0.81   MsMarcoCE_AverageRelLoc: 0.93   LaBSE_AverageRelLoc: 0.8   MsMarcoST_AverageRelLoc: 0.94   \n",
      "-----------------------------\n",
      "Bm25_Top@1: 0.08   MsMarcoCE_Top@1: 0.01   LaBSE_Top@1: 0.08   MsMarcoST_Top@1: 0.01   \n",
      "Bm25_Top@3: 0.15   MsMarcoCE_Top@3: 0.04   LaBSE_Top@3: 0.16   MsMarcoST_Top@3: 0.03   \n",
      "Bm25_Top@5: 0.23   MsMarcoCE_Top@5: 0.09   LaBSE_Top@5: 0.25   MsMarcoST_Top@5: 0.08   \n",
      "-----------------------------\n",
      "Bm25_FDARO@v1: 0.186   MsMarcoCE_FDARO@v1: 0.0378   LaBSE_FDARO@v1: 0.1792   MsMarcoST_FDARO@v1: 0.0288   \n",
      "Bm25_FDARO@v2: 0.1968   MsMarcoCE_FDARO@v2: 0.0408   LaBSE_FDARO@v2: 0.1858   MsMarcoST_FDARO@v2: 0.0312   \n",
      "-----------------------------\n",
      "Bm25_UpQuartile: 0.15   MsMarcoCE_UpQuartile: 0.03   LaBSE_UpQuartile: 0.15   MsMarcoST_UpQuartile: 0.03   \n",
      "\n",
      "\n"
     ]
    },
    {
     "name": "stderr",
     "output_type": "stream",
     "text": [
      "5000it [16:05,  5.18it/s]"
     ]
    },
    {
     "name": "stdout",
     "output_type": "stream",
     "text": [
      "Bm25_AverageLoc: 7.45   MsMarcoCE_AverageLoc: 8.62   LaBSE_AverageLoc: 7.32   MsMarcoST_AverageLoc: 8.71   \n",
      "-----------------------------\n",
      "Bm25_AverageRelLoc: 0.81   MsMarcoCE_AverageRelLoc: 0.93   LaBSE_AverageRelLoc: 0.8   MsMarcoST_AverageRelLoc: 0.94   \n",
      "-----------------------------\n",
      "Bm25_Top@1: 0.08   MsMarcoCE_Top@1: 0.01   LaBSE_Top@1: 0.08   MsMarcoST_Top@1: 0.01   \n",
      "Bm25_Top@3: 0.16   MsMarcoCE_Top@3: 0.04   LaBSE_Top@3: 0.16   MsMarcoST_Top@3: 0.03   \n",
      "Bm25_Top@5: 0.23   MsMarcoCE_Top@5: 0.09   LaBSE_Top@5: 0.25   MsMarcoST_Top@5: 0.08   \n",
      "-----------------------------\n",
      "Bm25_FDARO@v1: 0.188   MsMarcoCE_FDARO@v1: 0.0364   LaBSE_FDARO@v1: 0.1806   MsMarcoST_FDARO@v1: 0.029   \n",
      "Bm25_FDARO@v2: 0.1976   MsMarcoCE_FDARO@v2: 0.0394   LaBSE_FDARO@v2: 0.1884   MsMarcoST_FDARO@v2: 0.0314   \n",
      "-----------------------------\n",
      "Bm25_UpQuartile: 0.16   MsMarcoCE_UpQuartile: 0.03   LaBSE_UpQuartile: 0.15   MsMarcoST_UpQuartile: 0.03   \n",
      "\n",
      "\n"
     ]
    },
    {
     "name": "stderr",
     "output_type": "stream",
     "text": [
      "\n"
     ]
    }
   ],
   "source": [
    "metrics = [Bm25(), MsMarcoCE(), LaBSE(), MsMarcoST()]\n",
    "rm = RankingMetrics(metrics)\n",
    "for i, item in tqdm(enumerate(data)):\n",
    "    rm.update(item[\"query\"], item[\"passage_text\"], item[\"is_selected\"])\n",
    "    if (i + 1) % 1000 == 0:\n",
    "        rm.show_metrics()"
   ]
  },
  {
   "cell_type": "markdown",
   "metadata": {
    "id": "xZ6ia9VmMDV0"
   },
   "source": [
    "FDARO@v1 - fake_doc_above_all_relevent  \n",
    "FDARO@v2 - fake_doc_above_at_least_one_rel  \n",
    "AverageRelLoc - относительная позиция документа в выдаче. Чем ближе к нулю - тем лучше  \n",
    "MsMarcoCE более устойчива к кейсам, когда пассаж полностью повторяет запрос"
   ]
  },
  {
   "cell_type": "code",
   "execution_count": null,
   "metadata": {
    "id": "66M89gh3rTld"
   },
   "outputs": [],
   "source": []
  }
 ],
 "metadata": {
  "accelerator": "GPU",
  "colab": {
   "gpuType": "T4",
   "provenance": []
  },
  "gpuClass": "standard",
  "kernelspec": {
   "display_name": "Python 3 (ipykernel)",
   "language": "python",
   "name": "python3"
  },
  "language_info": {
   "codemirror_mode": {
    "name": "ipython",
    "version": 3
   },
   "file_extension": ".py",
   "mimetype": "text/x-python",
   "name": "python",
   "nbconvert_exporter": "python",
   "pygments_lexer": "ipython3",
   "version": "3.9.16"
  },
  "widgets": {
   "application/vnd.jupyter.widget-state+json": {
    "0609beccc4754c0f825452acda25c493": {
     "model_module": "@jupyter-widgets/controls",
     "model_module_version": "1.5.0",
     "model_name": "HBoxModel",
     "state": {
      "_dom_classes": [],
      "_model_module": "@jupyter-widgets/controls",
      "_model_module_version": "1.5.0",
      "_model_name": "HBoxModel",
      "_view_count": null,
      "_view_module": "@jupyter-widgets/controls",
      "_view_module_version": "1.5.0",
      "_view_name": "HBoxView",
      "box_style": "",
      "children": [
       "IPY_MODEL_79a988a1f6c74e15af21aa684e8e5ae2",
       "IPY_MODEL_472229877420446da265157d7be9db28",
       "IPY_MODEL_3231eb6a157f4e269792086c51ddb186"
      ],
      "layout": "IPY_MODEL_cfeb7f6ce6134552a3f09c8712940947"
     }
    },
    "0844a9b2537c49efa110ef6d83e15b5d": {
     "model_module": "@jupyter-widgets/controls",
     "model_module_version": "1.5.0",
     "model_name": "HBoxModel",
     "state": {
      "_dom_classes": [],
      "_model_module": "@jupyter-widgets/controls",
      "_model_module_version": "1.5.0",
      "_model_name": "HBoxModel",
      "_view_count": null,
      "_view_module": "@jupyter-widgets/controls",
      "_view_module_version": "1.5.0",
      "_view_name": "HBoxView",
      "box_style": "",
      "children": [
       "IPY_MODEL_4cd665d081f640e49edb79c3e8a00211",
       "IPY_MODEL_419321b71b694856a9dbc92ce2a17245",
       "IPY_MODEL_f2bbbeee9653461c9d69912ad6a0aec8"
      ],
      "layout": "IPY_MODEL_9cfa87aaf58a42e7b44b61387473d057"
     }
    },
    "08c5a46d6fba437a8bee1f5c575c98fe": {
     "model_module": "@jupyter-widgets/controls",
     "model_module_version": "1.5.0",
     "model_name": "ProgressStyleModel",
     "state": {
      "_model_module": "@jupyter-widgets/controls",
      "_model_module_version": "1.5.0",
      "_model_name": "ProgressStyleModel",
      "_view_count": null,
      "_view_module": "@jupyter-widgets/base",
      "_view_module_version": "1.2.0",
      "_view_name": "StyleView",
      "bar_color": null,
      "description_width": ""
     }
    },
    "08db9bf0dd5a4557a6b7516735964e23": {
     "model_module": "@jupyter-widgets/controls",
     "model_module_version": "1.5.0",
     "model_name": "HTMLModel",
     "state": {
      "_dom_classes": [],
      "_model_module": "@jupyter-widgets/controls",
      "_model_module_version": "1.5.0",
      "_model_name": "HTMLModel",
      "_view_count": null,
      "_view_module": "@jupyter-widgets/controls",
      "_view_module_version": "1.5.0",
      "_view_name": "HTMLView",
      "description": "",
      "description_tooltip": null,
      "layout": "IPY_MODEL_8a91bb1fab6440fe9a5339c454dd4c7d",
      "placeholder": "​",
      "style": "IPY_MODEL_ea2e4e65713c46f684a80451876c5ca3",
      "value": "Downloading (…)lve/main/config.json: 100%"
     }
    },
    "0efd1083e6d942048079ac502683b709": {
     "model_module": "@jupyter-widgets/controls",
     "model_module_version": "1.5.0",
     "model_name": "HBoxModel",
     "state": {
      "_dom_classes": [],
      "_model_module": "@jupyter-widgets/controls",
      "_model_module_version": "1.5.0",
      "_model_name": "HBoxModel",
      "_view_count": null,
      "_view_module": "@jupyter-widgets/controls",
      "_view_module_version": "1.5.0",
      "_view_name": "HBoxView",
      "box_style": "",
      "children": [
       "IPY_MODEL_2bdbda62191b44d68cd7016e5ebb726b",
       "IPY_MODEL_3cb4fe7a962f4c0492694ee7bd7ef430",
       "IPY_MODEL_3bb7b11d8bbd4087a37ca8a26485bd39"
      ],
      "layout": "IPY_MODEL_735a75564f97463c9acaa49080b5a63e"
     }
    },
    "1185b5421ff542cfa92c282198adea73": {
     "model_module": "@jupyter-widgets/controls",
     "model_module_version": "1.5.0",
     "model_name": "ProgressStyleModel",
     "state": {
      "_model_module": "@jupyter-widgets/controls",
      "_model_module_version": "1.5.0",
      "_model_name": "ProgressStyleModel",
      "_view_count": null,
      "_view_module": "@jupyter-widgets/base",
      "_view_module_version": "1.2.0",
      "_view_name": "StyleView",
      "bar_color": null,
      "description_width": ""
     }
    },
    "172e73fcbd9549e6a22cd1ae4d8f278f": {
     "model_module": "@jupyter-widgets/controls",
     "model_module_version": "1.5.0",
     "model_name": "DescriptionStyleModel",
     "state": {
      "_model_module": "@jupyter-widgets/controls",
      "_model_module_version": "1.5.0",
      "_model_name": "DescriptionStyleModel",
      "_view_count": null,
      "_view_module": "@jupyter-widgets/base",
      "_view_module_version": "1.2.0",
      "_view_name": "StyleView",
      "description_width": ""
     }
    },
    "1b8aa32fb8254a168603a8d4ad268acc": {
     "model_module": "@jupyter-widgets/controls",
     "model_module_version": "1.5.0",
     "model_name": "DescriptionStyleModel",
     "state": {
      "_model_module": "@jupyter-widgets/controls",
      "_model_module_version": "1.5.0",
      "_model_name": "DescriptionStyleModel",
      "_view_count": null,
      "_view_module": "@jupyter-widgets/base",
      "_view_module_version": "1.2.0",
      "_view_name": "StyleView",
      "description_width": ""
     }
    },
    "201e88b996bc4ddeb40ba1ee31800832": {
     "model_module": "@jupyter-widgets/controls",
     "model_module_version": "1.5.0",
     "model_name": "HBoxModel",
     "state": {
      "_dom_classes": [],
      "_model_module": "@jupyter-widgets/controls",
      "_model_module_version": "1.5.0",
      "_model_name": "HBoxModel",
      "_view_count": null,
      "_view_module": "@jupyter-widgets/controls",
      "_view_module_version": "1.5.0",
      "_view_name": "HBoxView",
      "box_style": "",
      "children": [
       "IPY_MODEL_8dc80c06b866434e8ed3c871d485a796",
       "IPY_MODEL_3ffb428e9f7b49409e112b0166cff23f",
       "IPY_MODEL_b9a5d80b334946e98cb624dc2b0949af"
      ],
      "layout": "IPY_MODEL_7c86ad61a15c46c196e418748a51017c"
     }
    },
    "21bf4300c72345b692a05e29ef63d9cf": {
     "model_module": "@jupyter-widgets/controls",
     "model_module_version": "1.5.0",
     "model_name": "HTMLModel",
     "state": {
      "_dom_classes": [],
      "_model_module": "@jupyter-widgets/controls",
      "_model_module_version": "1.5.0",
      "_model_name": "HTMLModel",
      "_view_count": null,
      "_view_module": "@jupyter-widgets/controls",
      "_view_module_version": "1.5.0",
      "_view_name": "HTMLView",
      "description": "",
      "description_tooltip": null,
      "layout": "IPY_MODEL_62dd6e4c1bba4ab68bc08bae49039ade",
      "placeholder": "​",
      "style": "IPY_MODEL_a3a50f93831d4a60b9f3117ffeb5ca12",
      "value": " 674/674 [00:00&lt;00:00, 24.1kB/s]"
     }
    },
    "23aa56d88aff4166880b3607fafdf533": {
     "model_module": "@jupyter-widgets/controls",
     "model_module_version": "1.5.0",
     "model_name": "FloatProgressModel",
     "state": {
      "_dom_classes": [],
      "_model_module": "@jupyter-widgets/controls",
      "_model_module_version": "1.5.0",
      "_model_name": "FloatProgressModel",
      "_view_count": null,
      "_view_module": "@jupyter-widgets/controls",
      "_view_module_version": "1.5.0",
      "_view_name": "ProgressView",
      "bar_style": "success",
      "description": "",
      "description_tooltip": null,
      "layout": "IPY_MODEL_fa6999b192964fd0afb40fea2ce6c696",
      "max": 1612610,
      "min": 0,
      "orientation": "horizontal",
      "style": "IPY_MODEL_1185b5421ff542cfa92c282198adea73",
      "value": 1612610
     }
    },
    "264c186710794eaf8c224a2fe093baf4": {
     "model_module": "@jupyter-widgets/base",
     "model_module_version": "1.2.0",
     "model_name": "LayoutModel",
     "state": {
      "_model_module": "@jupyter-widgets/base",
      "_model_module_version": "1.2.0",
      "_model_name": "LayoutModel",
      "_view_count": null,
      "_view_module": "@jupyter-widgets/base",
      "_view_module_version": "1.2.0",
      "_view_name": "LayoutView",
      "align_content": null,
      "align_items": null,
      "align_self": null,
      "border": null,
      "bottom": null,
      "display": null,
      "flex": null,
      "flex_flow": null,
      "grid_area": null,
      "grid_auto_columns": null,
      "grid_auto_flow": null,
      "grid_auto_rows": null,
      "grid_column": null,
      "grid_gap": null,
      "grid_row": null,
      "grid_template_areas": null,
      "grid_template_columns": null,
      "grid_template_rows": null,
      "height": null,
      "justify_content": null,
      "justify_items": null,
      "left": null,
      "margin": null,
      "max_height": null,
      "max_width": null,
      "min_height": null,
      "min_width": null,
      "object_fit": null,
      "object_position": null,
      "order": null,
      "overflow": null,
      "overflow_x": null,
      "overflow_y": null,
      "padding": null,
      "right": null,
      "top": null,
      "visibility": null,
      "width": null
     }
    },
    "291f3969fd584872add3a52afd3cbb14": {
     "model_module": "@jupyter-widgets/controls",
     "model_module_version": "1.5.0",
     "model_name": "ProgressStyleModel",
     "state": {
      "_model_module": "@jupyter-widgets/controls",
      "_model_module_version": "1.5.0",
      "_model_name": "ProgressStyleModel",
      "_view_count": null,
      "_view_module": "@jupyter-widgets/base",
      "_view_module_version": "1.2.0",
      "_view_name": "StyleView",
      "bar_color": null,
      "description_width": ""
     }
    },
    "2ba24264c64a4d5a92a1ace52d576bf8": {
     "model_module": "@jupyter-widgets/controls",
     "model_module_version": "1.5.0",
     "model_name": "HBoxModel",
     "state": {
      "_dom_classes": [],
      "_model_module": "@jupyter-widgets/controls",
      "_model_module_version": "1.5.0",
      "_model_name": "HBoxModel",
      "_view_count": null,
      "_view_module": "@jupyter-widgets/controls",
      "_view_module_version": "1.5.0",
      "_view_name": "HBoxView",
      "box_style": "",
      "children": [
       "IPY_MODEL_8ccba999ec4446048b0ab10feeeb7211",
       "IPY_MODEL_23aa56d88aff4166880b3607fafdf533",
       "IPY_MODEL_f23f674de04044c4bd54479258686e03"
      ],
      "layout": "IPY_MODEL_ae80d0d9287142c3ac2c151ca9f77f2e"
     }
    },
    "2bdbda62191b44d68cd7016e5ebb726b": {
     "model_module": "@jupyter-widgets/controls",
     "model_module_version": "1.5.0",
     "model_name": "HTMLModel",
     "state": {
      "_dom_classes": [],
      "_model_module": "@jupyter-widgets/controls",
      "_model_module_version": "1.5.0",
      "_model_name": "HTMLModel",
      "_view_count": null,
      "_view_module": "@jupyter-widgets/controls",
      "_view_module_version": "1.5.0",
      "_view_name": "HTMLView",
      "description": "",
      "description_tooltip": null,
      "layout": "IPY_MODEL_a5455995b89b486bb28a8c52cf543bd8",
      "placeholder": "​",
      "style": "IPY_MODEL_172e73fcbd9549e6a22cd1ae4d8f278f",
      "value": "Downloading (…)olve/main/merges.txt: 100%"
     }
    },
    "3323dd85153e4fbebe5bec31af7eb013": {
     "model_module": "@jupyter-widgets/controls",
     "model_module_version": "1.5.0",
     "model_name": "HBoxModel",
     "state": {
      "_dom_classes": [],
      "_model_module": "@jupyter-widgets/controls",
      "_model_module_version": "1.5.0",
      "_model_name": "HBoxModel",
      "_view_count": null,
      "_view_module": "@jupyter-widgets/controls",
      "_view_module_version": "1.5.0",
      "_view_name": "HBoxView",
      "box_style": "",
      "children": [
       "IPY_MODEL_a60a2d36f6b64728bbb539b3f98988f5",
       "IPY_MODEL_5e8a98c9b3194d4c81a9bc8b932e5f2e",
       "IPY_MODEL_4cb860aa2d514b9bbe06d41cdd5a1ce7"
      ],
      "layout": "IPY_MODEL_7c342c14b86443599cc1e5c6eb0679d1"
     }
    },
    "3bb7b11d8bbd4087a37ca8a26485bd39": {
     "model_module": "@jupyter-widgets/controls",
     "model_module_version": "1.5.0",
     "model_name": "HTMLModel",
     "state": {
      "_dom_classes": [],
      "_model_module": "@jupyter-widgets/controls",
      "_model_module_version": "1.5.0",
      "_model_name": "HTMLModel",
      "_view_count": null,
      "_view_module": "@jupyter-widgets/controls",
      "_view_module_version": "1.5.0",
      "_view_name": "HTMLView",
      "description": "",
      "description_tooltip": null,
      "layout": "IPY_MODEL_9613dc19ceac423abdaaf076efac5f7a",
      "placeholder": "​",
      "style": "IPY_MODEL_4898316297fa41d0ba0170c6d059e401",
      "value": " 1.27M/1.27M [00:00&lt;00:00, 28.1MB/s]"
     }
    },
    "3cb4fe7a962f4c0492694ee7bd7ef430": {
     "model_module": "@jupyter-widgets/controls",
     "model_module_version": "1.5.0",
     "model_name": "FloatProgressModel",
     "state": {
      "_dom_classes": [],
      "_model_module": "@jupyter-widgets/controls",
      "_model_module_version": "1.5.0",
      "_model_name": "FloatProgressModel",
      "_view_count": null,
      "_view_module": "@jupyter-widgets/controls",
      "_view_module_version": "1.5.0",
      "_view_name": "ProgressView",
      "bar_style": "success",
      "description": "",
      "description_tooltip": null,
      "layout": "IPY_MODEL_66f1bf5589b24901829e8a4dd81fae52",
      "max": 1270963,
      "min": 0,
      "orientation": "horizontal",
      "style": "IPY_MODEL_291f3969fd584872add3a52afd3cbb14",
      "value": 1270963
     }
    },
    "40710616999f442a91c112d9d1b83245": {
     "model_module": "@jupyter-widgets/base",
     "model_module_version": "1.2.0",
     "model_name": "LayoutModel",
     "state": {
      "_model_module": "@jupyter-widgets/base",
      "_model_module_version": "1.2.0",
      "_model_name": "LayoutModel",
      "_view_count": null,
      "_view_module": "@jupyter-widgets/base",
      "_view_module_version": "1.2.0",
      "_view_name": "LayoutView",
      "align_content": null,
      "align_items": null,
      "align_self": null,
      "border": null,
      "bottom": null,
      "display": null,
      "flex": null,
      "flex_flow": null,
      "grid_area": null,
      "grid_auto_columns": null,
      "grid_auto_flow": null,
      "grid_auto_rows": null,
      "grid_column": null,
      "grid_gap": null,
      "grid_row": null,
      "grid_template_areas": null,
      "grid_template_columns": null,
      "grid_template_rows": null,
      "height": null,
      "justify_content": null,
      "justify_items": null,
      "left": null,
      "margin": null,
      "max_height": null,
      "max_width": null,
      "min_height": null,
      "min_width": null,
      "object_fit": null,
      "object_position": null,
      "order": null,
      "overflow": null,
      "overflow_x": null,
      "overflow_y": null,
      "padding": null,
      "right": null,
      "top": null,
      "visibility": null,
      "width": null
     }
    },
    "45054aa9679044d5ab2435dced633de6": {
     "model_module": "@jupyter-widgets/controls",
     "model_module_version": "1.5.0",
     "model_name": "FloatProgressModel",
     "state": {
      "_dom_classes": [],
      "_model_module": "@jupyter-widgets/controls",
      "_model_module_version": "1.5.0",
      "_model_name": "FloatProgressModel",
      "_view_count": null,
      "_view_module": "@jupyter-widgets/controls",
      "_view_module_version": "1.5.0",
      "_view_name": "ProgressView",
      "bar_style": "success",
      "description": "",
      "description_tooltip": null,
      "layout": "IPY_MODEL_51ef8cac40864173b986657ba5917cce",
      "max": 674,
      "min": 0,
      "orientation": "horizontal",
      "style": "IPY_MODEL_08c5a46d6fba437a8bee1f5c575c98fe",
      "value": 674
     }
    },
    "4898316297fa41d0ba0170c6d059e401": {
     "model_module": "@jupyter-widgets/controls",
     "model_module_version": "1.5.0",
     "model_name": "DescriptionStyleModel",
     "state": {
      "_model_module": "@jupyter-widgets/controls",
      "_model_module_version": "1.5.0",
      "_model_name": "DescriptionStyleModel",
      "_view_count": null,
      "_view_module": "@jupyter-widgets/base",
      "_view_module_version": "1.2.0",
      "_view_name": "StyleView",
      "description_width": ""
     }
    },
    "494f0859bf314807a8ecedc36999509a": {
     "model_module": "@jupyter-widgets/base",
     "model_module_version": "1.2.0",
     "model_name": "LayoutModel",
     "state": {
      "_model_module": "@jupyter-widgets/base",
      "_model_module_version": "1.2.0",
      "_model_name": "LayoutModel",
      "_view_count": null,
      "_view_module": "@jupyter-widgets/base",
      "_view_module_version": "1.2.0",
      "_view_name": "LayoutView",
      "align_content": null,
      "align_items": null,
      "align_self": null,
      "border": null,
      "bottom": null,
      "display": null,
      "flex": null,
      "flex_flow": null,
      "grid_area": null,
      "grid_auto_columns": null,
      "grid_auto_flow": null,
      "grid_auto_rows": null,
      "grid_column": null,
      "grid_gap": null,
      "grid_row": null,
      "grid_template_areas": null,
      "grid_template_columns": null,
      "grid_template_rows": null,
      "height": null,
      "justify_content": null,
      "justify_items": null,
      "left": null,
      "margin": null,
      "max_height": null,
      "max_width": null,
      "min_height": null,
      "min_width": null,
      "object_fit": null,
      "object_position": null,
      "order": null,
      "overflow": null,
      "overflow_x": null,
      "overflow_y": null,
      "padding": null,
      "right": null,
      "top": null,
      "visibility": null,
      "width": null
     }
    },
    "4afefbd12b30431ba6308eb7bc6e6c01": {
     "model_module": "@jupyter-widgets/controls",
     "model_module_version": "1.5.0",
     "model_name": "HTMLModel",
     "state": {
      "_dom_classes": [],
      "_model_module": "@jupyter-widgets/controls",
      "_model_module_version": "1.5.0",
      "_model_name": "HTMLModel",
      "_view_count": null,
      "_view_module": "@jupyter-widgets/controls",
      "_view_module_version": "1.5.0",
      "_view_name": "HTMLView",
      "description": "",
      "description_tooltip": null,
      "layout": "IPY_MODEL_264c186710794eaf8c224a2fe093baf4",
      "placeholder": "​",
      "style": "IPY_MODEL_8a4045b462914055980d763ddbcbb560",
      "value": " 1.73G/1.73G [00:09&lt;00:00, 258MB/s]"
     }
    },
    "51ef8cac40864173b986657ba5917cce": {
     "model_module": "@jupyter-widgets/base",
     "model_module_version": "1.2.0",
     "model_name": "LayoutModel",
     "state": {
      "_model_module": "@jupyter-widgets/base",
      "_model_module_version": "1.2.0",
      "_model_name": "LayoutModel",
      "_view_count": null,
      "_view_module": "@jupyter-widgets/base",
      "_view_module_version": "1.2.0",
      "_view_name": "LayoutView",
      "align_content": null,
      "align_items": null,
      "align_self": null,
      "border": null,
      "bottom": null,
      "display": null,
      "flex": null,
      "flex_flow": null,
      "grid_area": null,
      "grid_auto_columns": null,
      "grid_auto_flow": null,
      "grid_auto_rows": null,
      "grid_column": null,
      "grid_gap": null,
      "grid_row": null,
      "grid_template_areas": null,
      "grid_template_columns": null,
      "grid_template_rows": null,
      "height": null,
      "justify_content": null,
      "justify_items": null,
      "left": null,
      "margin": null,
      "max_height": null,
      "max_width": null,
      "min_height": null,
      "min_width": null,
      "object_fit": null,
      "object_position": null,
      "order": null,
      "overflow": null,
      "overflow_x": null,
      "overflow_y": null,
      "padding": null,
      "right": null,
      "top": null,
      "visibility": null,
      "width": null
     }
    },
    "5902ccb48499482d87191082aaaee1a4": {
     "model_module": "@jupyter-widgets/base",
     "model_module_version": "1.2.0",
     "model_name": "LayoutModel",
     "state": {
      "_model_module": "@jupyter-widgets/base",
      "_model_module_version": "1.2.0",
      "_model_name": "LayoutModel",
      "_view_count": null,
      "_view_module": "@jupyter-widgets/base",
      "_view_module_version": "1.2.0",
      "_view_name": "LayoutView",
      "align_content": null,
      "align_items": null,
      "align_self": null,
      "border": null,
      "bottom": null,
      "display": null,
      "flex": null,
      "flex_flow": null,
      "grid_area": null,
      "grid_auto_columns": null,
      "grid_auto_flow": null,
      "grid_auto_rows": null,
      "grid_column": null,
      "grid_gap": null,
      "grid_row": null,
      "grid_template_areas": null,
      "grid_template_columns": null,
      "grid_template_rows": null,
      "height": null,
      "justify_content": null,
      "justify_items": null,
      "left": null,
      "margin": null,
      "max_height": null,
      "max_width": null,
      "min_height": null,
      "min_width": null,
      "object_fit": null,
      "object_position": null,
      "order": null,
      "overflow": null,
      "overflow_x": null,
      "overflow_y": null,
      "padding": null,
      "right": null,
      "top": null,
      "visibility": null,
      "width": null
     }
    },
    "62dd6e4c1bba4ab68bc08bae49039ade": {
     "model_module": "@jupyter-widgets/base",
     "model_module_version": "1.2.0",
     "model_name": "LayoutModel",
     "state": {
      "_model_module": "@jupyter-widgets/base",
      "_model_module_version": "1.2.0",
      "_model_name": "LayoutModel",
      "_view_count": null,
      "_view_module": "@jupyter-widgets/base",
      "_view_module_version": "1.2.0",
      "_view_name": "LayoutView",
      "align_content": null,
      "align_items": null,
      "align_self": null,
      "border": null,
      "bottom": null,
      "display": null,
      "flex": null,
      "flex_flow": null,
      "grid_area": null,
      "grid_auto_columns": null,
      "grid_auto_flow": null,
      "grid_auto_rows": null,
      "grid_column": null,
      "grid_gap": null,
      "grid_row": null,
      "grid_template_areas": null,
      "grid_template_columns": null,
      "grid_template_rows": null,
      "height": null,
      "justify_content": null,
      "justify_items": null,
      "left": null,
      "margin": null,
      "max_height": null,
      "max_width": null,
      "min_height": null,
      "min_width": null,
      "object_fit": null,
      "object_position": null,
      "order": null,
      "overflow": null,
      "overflow_x": null,
      "overflow_y": null,
      "padding": null,
      "right": null,
      "top": null,
      "visibility": null,
      "width": null
     }
    },
    "650582a1ca584e3ba2464f54b5733eed": {
     "model_module": "@jupyter-widgets/controls",
     "model_module_version": "1.5.0",
     "model_name": "HBoxModel",
     "state": {
      "_dom_classes": [],
      "_model_module": "@jupyter-widgets/controls",
      "_model_module_version": "1.5.0",
      "_model_name": "HBoxModel",
      "_view_count": null,
      "_view_module": "@jupyter-widgets/controls",
      "_view_module_version": "1.5.0",
      "_view_name": "HBoxView",
      "box_style": "",
      "children": [
       "IPY_MODEL_22d153593eab40baaab8e553df3d4555",
       "IPY_MODEL_57a55af1a6b24ccfb020efd8cb95f1ac",
       "IPY_MODEL_f2499ac5f8854b2a863d3dacd4e89d03"
      ],
      "layout": "IPY_MODEL_f3d8ef025bba4dd183c3dba41ddb163b"
     }
    },
    "6639e6890a1c4e3785fa5eb097ccc1ca": {
     "model_module": "@jupyter-widgets/controls",
     "model_module_version": "1.5.0",
     "model_name": "DescriptionStyleModel",
     "state": {
      "_model_module": "@jupyter-widgets/controls",
      "_model_module_version": "1.5.0",
      "_model_name": "DescriptionStyleModel",
      "_view_count": null,
      "_view_module": "@jupyter-widgets/base",
      "_view_module_version": "1.2.0",
      "_view_name": "StyleView",
      "description_width": ""
     }
    },
    "66f1bf5589b24901829e8a4dd81fae52": {
     "model_module": "@jupyter-widgets/base",
     "model_module_version": "1.2.0",
     "model_name": "LayoutModel",
     "state": {
      "_model_module": "@jupyter-widgets/base",
      "_model_module_version": "1.2.0",
      "_model_name": "LayoutModel",
      "_view_count": null,
      "_view_module": "@jupyter-widgets/base",
      "_view_module_version": "1.2.0",
      "_view_name": "LayoutView",
      "align_content": null,
      "align_items": null,
      "align_self": null,
      "border": null,
      "bottom": null,
      "display": null,
      "flex": null,
      "flex_flow": null,
      "grid_area": null,
      "grid_auto_columns": null,
      "grid_auto_flow": null,
      "grid_auto_rows": null,
      "grid_column": null,
      "grid_gap": null,
      "grid_row": null,
      "grid_template_areas": null,
      "grid_template_columns": null,
      "grid_template_rows": null,
      "height": null,
      "justify_content": null,
      "justify_items": null,
      "left": null,
      "margin": null,
      "max_height": null,
      "max_width": null,
      "min_height": null,
      "min_width": null,
      "object_fit": null,
      "object_position": null,
      "order": null,
      "overflow": null,
      "overflow_x": null,
      "overflow_y": null,
      "padding": null,
      "right": null,
      "top": null,
      "visibility": null,
      "width": null
     }
    },
    "6a2c149473f54bd0a732c645f3c8e875": {
     "model_module": "@jupyter-widgets/base",
     "model_module_version": "1.2.0",
     "model_name": "LayoutModel",
     "state": {
      "_model_module": "@jupyter-widgets/base",
      "_model_module_version": "1.2.0",
      "_model_name": "LayoutModel",
      "_view_count": null,
      "_view_module": "@jupyter-widgets/base",
      "_view_module_version": "1.2.0",
      "_view_name": "LayoutView",
      "align_content": null,
      "align_items": null,
      "align_self": null,
      "border": null,
      "bottom": null,
      "display": null,
      "flex": null,
      "flex_flow": null,
      "grid_area": null,
      "grid_auto_columns": null,
      "grid_auto_flow": null,
      "grid_auto_rows": null,
      "grid_column": null,
      "grid_gap": null,
      "grid_row": null,
      "grid_template_areas": null,
      "grid_template_columns": null,
      "grid_template_rows": null,
      "height": null,
      "justify_content": null,
      "justify_items": null,
      "left": null,
      "margin": null,
      "max_height": null,
      "max_width": null,
      "min_height": null,
      "min_width": null,
      "object_fit": null,
      "object_position": null,
      "order": null,
      "overflow": null,
      "overflow_x": null,
      "overflow_y": null,
      "padding": null,
      "right": null,
      "top": null,
      "visibility": null,
      "width": null
     }
    },
    "735a75564f97463c9acaa49080b5a63e": {
     "model_module": "@jupyter-widgets/base",
     "model_module_version": "1.2.0",
     "model_name": "LayoutModel",
     "state": {
      "_model_module": "@jupyter-widgets/base",
      "_model_module_version": "1.2.0",
      "_model_name": "LayoutModel",
      "_view_count": null,
      "_view_module": "@jupyter-widgets/base",
      "_view_module_version": "1.2.0",
      "_view_name": "LayoutView",
      "align_content": null,
      "align_items": null,
      "align_self": null,
      "border": null,
      "bottom": null,
      "display": null,
      "flex": null,
      "flex_flow": null,
      "grid_area": null,
      "grid_auto_columns": null,
      "grid_auto_flow": null,
      "grid_auto_rows": null,
      "grid_column": null,
      "grid_gap": null,
      "grid_row": null,
      "grid_template_areas": null,
      "grid_template_columns": null,
      "grid_template_rows": null,
      "height": null,
      "justify_content": null,
      "justify_items": null,
      "left": null,
      "margin": null,
      "max_height": null,
      "max_width": null,
      "min_height": null,
      "min_width": null,
      "object_fit": null,
      "object_position": null,
      "order": null,
      "overflow": null,
      "overflow_x": null,
      "overflow_y": null,
      "padding": null,
      "right": null,
      "top": null,
      "visibility": null,
      "width": null
     }
    },
    "797fb865b041401c8f10a5deff7b7621": {
     "model_module": "@jupyter-widgets/base",
     "model_module_version": "1.2.0",
     "model_name": "LayoutModel",
     "state": {
      "_model_module": "@jupyter-widgets/base",
      "_model_module_version": "1.2.0",
      "_model_name": "LayoutModel",
      "_view_count": null,
      "_view_module": "@jupyter-widgets/base",
      "_view_module_version": "1.2.0",
      "_view_name": "LayoutView",
      "align_content": null,
      "align_items": null,
      "align_self": null,
      "border": null,
      "bottom": null,
      "display": null,
      "flex": null,
      "flex_flow": null,
      "grid_area": null,
      "grid_auto_columns": null,
      "grid_auto_flow": null,
      "grid_auto_rows": null,
      "grid_column": null,
      "grid_gap": null,
      "grid_row": null,
      "grid_template_areas": null,
      "grid_template_columns": null,
      "grid_template_rows": null,
      "height": null,
      "justify_content": null,
      "justify_items": null,
      "left": null,
      "margin": null,
      "max_height": null,
      "max_width": null,
      "min_height": null,
      "min_width": null,
      "object_fit": null,
      "object_position": null,
      "order": null,
      "overflow": null,
      "overflow_x": null,
      "overflow_y": null,
      "padding": null,
      "right": null,
      "top": null,
      "visibility": null,
      "width": null
     }
    },
    "7bb1c36ac9aa422fb52e029f48bac821": {
     "model_module": "@jupyter-widgets/controls",
     "model_module_version": "1.5.0",
     "model_name": "HTMLModel",
     "state": {
      "_dom_classes": [],
      "_model_module": "@jupyter-widgets/controls",
      "_model_module_version": "1.5.0",
      "_model_name": "HTMLModel",
      "_view_count": null,
      "_view_module": "@jupyter-widgets/controls",
      "_view_module_version": "1.5.0",
      "_view_name": "HTMLView",
      "description": "",
      "description_tooltip": null,
      "layout": "IPY_MODEL_5902ccb48499482d87191082aaaee1a4",
      "placeholder": "​",
      "style": "IPY_MODEL_1b8aa32fb8254a168603a8d4ad268acc",
      "value": "Downloading pytorch_model.bin: 100%"
     }
    },
    "8a4045b462914055980d763ddbcbb560": {
     "model_module": "@jupyter-widgets/controls",
     "model_module_version": "1.5.0",
     "model_name": "DescriptionStyleModel",
     "state": {
      "_model_module": "@jupyter-widgets/controls",
      "_model_module_version": "1.5.0",
      "_model_name": "DescriptionStyleModel",
      "_view_count": null,
      "_view_module": "@jupyter-widgets/base",
      "_view_module_version": "1.2.0",
      "_view_name": "StyleView",
      "description_width": ""
     }
    },
    "8a91bb1fab6440fe9a5339c454dd4c7d": {
     "model_module": "@jupyter-widgets/base",
     "model_module_version": "1.2.0",
     "model_name": "LayoutModel",
     "state": {
      "_model_module": "@jupyter-widgets/base",
      "_model_module_version": "1.2.0",
      "_model_name": "LayoutModel",
      "_view_count": null,
      "_view_module": "@jupyter-widgets/base",
      "_view_module_version": "1.2.0",
      "_view_name": "LayoutView",
      "align_content": null,
      "align_items": null,
      "align_self": null,
      "border": null,
      "bottom": null,
      "display": null,
      "flex": null,
      "flex_flow": null,
      "grid_area": null,
      "grid_auto_columns": null,
      "grid_auto_flow": null,
      "grid_auto_rows": null,
      "grid_column": null,
      "grid_gap": null,
      "grid_row": null,
      "grid_template_areas": null,
      "grid_template_columns": null,
      "grid_template_rows": null,
      "height": null,
      "justify_content": null,
      "justify_items": null,
      "left": null,
      "margin": null,
      "max_height": null,
      "max_width": null,
      "min_height": null,
      "min_width": null,
      "object_fit": null,
      "object_position": null,
      "order": null,
      "overflow": null,
      "overflow_x": null,
      "overflow_y": null,
      "padding": null,
      "right": null,
      "top": null,
      "visibility": null,
      "width": null
     }
    },
    "8ccba999ec4446048b0ab10feeeb7211": {
     "model_module": "@jupyter-widgets/controls",
     "model_module_version": "1.5.0",
     "model_name": "HTMLModel",
     "state": {
      "_dom_classes": [],
      "_model_module": "@jupyter-widgets/controls",
      "_model_module_version": "1.5.0",
      "_model_name": "HTMLModel",
      "_view_count": null,
      "_view_module": "@jupyter-widgets/controls",
      "_view_module_version": "1.5.0",
      "_view_name": "HTMLView",
      "description": "",
      "description_tooltip": null,
      "layout": "IPY_MODEL_adba55befe194217bfca3c79e75cac2b",
      "placeholder": "​",
      "style": "IPY_MODEL_6639e6890a1c4e3785fa5eb097ccc1ca",
      "value": "Downloading (…)olve/main/vocab.json: 100%"
     }
    },
    "8ffa25f5f302466b878cdf41a2abe3d2": {
     "model_module": "@jupyter-widgets/controls",
     "model_module_version": "1.5.0",
     "model_name": "HBoxModel",
     "state": {
      "_dom_classes": [],
      "_model_module": "@jupyter-widgets/controls",
      "_model_module_version": "1.5.0",
      "_model_name": "HBoxModel",
      "_view_count": null,
      "_view_module": "@jupyter-widgets/controls",
      "_view_module_version": "1.5.0",
      "_view_name": "HBoxView",
      "box_style": "",
      "children": [
       "IPY_MODEL_ffc37238e050401d8d333b5619e98902",
       "IPY_MODEL_1589ea488018464499bc641cb60030a5",
       "IPY_MODEL_08926ec96a8943d68b090f213f8e6de0"
      ],
      "layout": "IPY_MODEL_bf1ed10710bb49549ada11d59716a7bb"
     }
    },
    "9613dc19ceac423abdaaf076efac5f7a": {
     "model_module": "@jupyter-widgets/base",
     "model_module_version": "1.2.0",
     "model_name": "LayoutModel",
     "state": {
      "_model_module": "@jupyter-widgets/base",
      "_model_module_version": "1.2.0",
      "_model_name": "LayoutModel",
      "_view_count": null,
      "_view_module": "@jupyter-widgets/base",
      "_view_module_version": "1.2.0",
      "_view_name": "LayoutView",
      "align_content": null,
      "align_items": null,
      "align_self": null,
      "border": null,
      "bottom": null,
      "display": null,
      "flex": null,
      "flex_flow": null,
      "grid_area": null,
      "grid_auto_columns": null,
      "grid_auto_flow": null,
      "grid_auto_rows": null,
      "grid_column": null,
      "grid_gap": null,
      "grid_row": null,
      "grid_template_areas": null,
      "grid_template_columns": null,
      "grid_template_rows": null,
      "height": null,
      "justify_content": null,
      "justify_items": null,
      "left": null,
      "margin": null,
      "max_height": null,
      "max_width": null,
      "min_height": null,
      "min_width": null,
      "object_fit": null,
      "object_position": null,
      "order": null,
      "overflow": null,
      "overflow_x": null,
      "overflow_y": null,
      "padding": null,
      "right": null,
      "top": null,
      "visibility": null,
      "width": null
     }
    },
    "98c71408b56e401e9547e65e1995f015": {
     "model_module": "@jupyter-widgets/controls",
     "model_module_version": "1.5.0",
     "model_name": "ProgressStyleModel",
     "state": {
      "_model_module": "@jupyter-widgets/controls",
      "_model_module_version": "1.5.0",
      "_model_name": "ProgressStyleModel",
      "_view_count": null,
      "_view_module": "@jupyter-widgets/base",
      "_view_module_version": "1.2.0",
      "_view_name": "StyleView",
      "bar_color": null,
      "description_width": ""
     }
    },
    "a3a50f93831d4a60b9f3117ffeb5ca12": {
     "model_module": "@jupyter-widgets/controls",
     "model_module_version": "1.5.0",
     "model_name": "DescriptionStyleModel",
     "state": {
      "_model_module": "@jupyter-widgets/controls",
      "_model_module_version": "1.5.0",
      "_model_name": "DescriptionStyleModel",
      "_view_count": null,
      "_view_module": "@jupyter-widgets/base",
      "_view_module_version": "1.2.0",
      "_view_name": "StyleView",
      "description_width": ""
     }
    },
    "a5455995b89b486bb28a8c52cf543bd8": {
     "model_module": "@jupyter-widgets/base",
     "model_module_version": "1.2.0",
     "model_name": "LayoutModel",
     "state": {
      "_model_module": "@jupyter-widgets/base",
      "_model_module_version": "1.2.0",
      "_model_name": "LayoutModel",
      "_view_count": null,
      "_view_module": "@jupyter-widgets/base",
      "_view_module_version": "1.2.0",
      "_view_name": "LayoutView",
      "align_content": null,
      "align_items": null,
      "align_self": null,
      "border": null,
      "bottom": null,
      "display": null,
      "flex": null,
      "flex_flow": null,
      "grid_area": null,
      "grid_auto_columns": null,
      "grid_auto_flow": null,
      "grid_auto_rows": null,
      "grid_column": null,
      "grid_gap": null,
      "grid_row": null,
      "grid_template_areas": null,
      "grid_template_columns": null,
      "grid_template_rows": null,
      "height": null,
      "justify_content": null,
      "justify_items": null,
      "left": null,
      "margin": null,
      "max_height": null,
      "max_width": null,
      "min_height": null,
      "min_width": null,
      "object_fit": null,
      "object_position": null,
      "order": null,
      "overflow": null,
      "overflow_x": null,
      "overflow_y": null,
      "padding": null,
      "right": null,
      "top": null,
      "visibility": null,
      "width": null
     }
    },
    "adba55befe194217bfca3c79e75cac2b": {
     "model_module": "@jupyter-widgets/base",
     "model_module_version": "1.2.0",
     "model_name": "LayoutModel",
     "state": {
      "_model_module": "@jupyter-widgets/base",
      "_model_module_version": "1.2.0",
      "_model_name": "LayoutModel",
      "_view_count": null,
      "_view_module": "@jupyter-widgets/base",
      "_view_module_version": "1.2.0",
      "_view_name": "LayoutView",
      "align_content": null,
      "align_items": null,
      "align_self": null,
      "border": null,
      "bottom": null,
      "display": null,
      "flex": null,
      "flex_flow": null,
      "grid_area": null,
      "grid_auto_columns": null,
      "grid_auto_flow": null,
      "grid_auto_rows": null,
      "grid_column": null,
      "grid_gap": null,
      "grid_row": null,
      "grid_template_areas": null,
      "grid_template_columns": null,
      "grid_template_rows": null,
      "height": null,
      "justify_content": null,
      "justify_items": null,
      "left": null,
      "margin": null,
      "max_height": null,
      "max_width": null,
      "min_height": null,
      "min_width": null,
      "object_fit": null,
      "object_position": null,
      "order": null,
      "overflow": null,
      "overflow_x": null,
      "overflow_y": null,
      "padding": null,
      "right": null,
      "top": null,
      "visibility": null,
      "width": null
     }
    },
    "ae80d0d9287142c3ac2c151ca9f77f2e": {
     "model_module": "@jupyter-widgets/base",
     "model_module_version": "1.2.0",
     "model_name": "LayoutModel",
     "state": {
      "_model_module": "@jupyter-widgets/base",
      "_model_module_version": "1.2.0",
      "_model_name": "LayoutModel",
      "_view_count": null,
      "_view_module": "@jupyter-widgets/base",
      "_view_module_version": "1.2.0",
      "_view_name": "LayoutView",
      "align_content": null,
      "align_items": null,
      "align_self": null,
      "border": null,
      "bottom": null,
      "display": null,
      "flex": null,
      "flex_flow": null,
      "grid_area": null,
      "grid_auto_columns": null,
      "grid_auto_flow": null,
      "grid_auto_rows": null,
      "grid_column": null,
      "grid_gap": null,
      "grid_row": null,
      "grid_template_areas": null,
      "grid_template_columns": null,
      "grid_template_rows": null,
      "height": null,
      "justify_content": null,
      "justify_items": null,
      "left": null,
      "margin": null,
      "max_height": null,
      "max_width": null,
      "min_height": null,
      "min_width": null,
      "object_fit": null,
      "object_position": null,
      "order": null,
      "overflow": null,
      "overflow_x": null,
      "overflow_y": null,
      "padding": null,
      "right": null,
      "top": null,
      "visibility": null,
      "width": null
     }
    },
    "b0a9faa183134991b956aa9955539744": {
     "model_module": "@jupyter-widgets/controls",
     "model_module_version": "1.5.0",
     "model_name": "HBoxModel",
     "state": {
      "_dom_classes": [],
      "_model_module": "@jupyter-widgets/controls",
      "_model_module_version": "1.5.0",
      "_model_name": "HBoxModel",
      "_view_count": null,
      "_view_module": "@jupyter-widgets/controls",
      "_view_module_version": "1.5.0",
      "_view_name": "HBoxView",
      "box_style": "",
      "children": [
       "IPY_MODEL_61599d06f91e4eb7ab5c0190b8eb395b",
       "IPY_MODEL_a09c78ae1a5242fca883738dcc34abb6",
       "IPY_MODEL_9869b2d107b6468d873bb59872c54588"
      ],
      "layout": "IPY_MODEL_4577592d9fa14fc2ab7465c6b45a63bf"
     }
    },
    "b48ec52507564295a918d8b13b845e00": {
     "model_module": "@jupyter-widgets/controls",
     "model_module_version": "1.5.0",
     "model_name": "HBoxModel",
     "state": {
      "_dom_classes": [],
      "_model_module": "@jupyter-widgets/controls",
      "_model_module_version": "1.5.0",
      "_model_name": "HBoxModel",
      "_view_count": null,
      "_view_module": "@jupyter-widgets/controls",
      "_view_module_version": "1.5.0",
      "_view_name": "HBoxView",
      "box_style": "",
      "children": [
       "IPY_MODEL_08db9bf0dd5a4557a6b7516735964e23",
       "IPY_MODEL_45054aa9679044d5ab2435dced633de6",
       "IPY_MODEL_21bf4300c72345b692a05e29ef63d9cf"
      ],
      "layout": "IPY_MODEL_797fb865b041401c8f10a5deff7b7621"
     }
    },
    "bce71cc5a4034d2c86116df3eb65630e": {
     "model_module": "@jupyter-widgets/controls",
     "model_module_version": "1.5.0",
     "model_name": "HBoxModel",
     "state": {
      "_dom_classes": [],
      "_model_module": "@jupyter-widgets/controls",
      "_model_module_version": "1.5.0",
      "_model_name": "HBoxModel",
      "_view_count": null,
      "_view_module": "@jupyter-widgets/controls",
      "_view_module_version": "1.5.0",
      "_view_name": "HBoxView",
      "box_style": "",
      "children": [
       "IPY_MODEL_7bb1c36ac9aa422fb52e029f48bac821",
       "IPY_MODEL_ef9171d724e54b34b4d0235393323ead",
       "IPY_MODEL_4afefbd12b30431ba6308eb7bc6e6c01"
      ],
      "layout": "IPY_MODEL_6a2c149473f54bd0a732c645f3c8e875"
     }
    },
    "c4111741612c41ddbec7b31cf151c287": {
     "model_module": "@jupyter-widgets/controls",
     "model_module_version": "1.5.0",
     "model_name": "DescriptionStyleModel",
     "state": {
      "_model_module": "@jupyter-widgets/controls",
      "_model_module_version": "1.5.0",
      "_model_name": "DescriptionStyleModel",
      "_view_count": null,
      "_view_module": "@jupyter-widgets/base",
      "_view_module_version": "1.2.0",
      "_view_name": "StyleView",
      "description_width": ""
     }
    },
    "cd42170ffdea4e059b12aa25006c5420": {
     "model_module": "@jupyter-widgets/controls",
     "model_module_version": "1.5.0",
     "model_name": "HBoxModel",
     "state": {
      "_dom_classes": [],
      "_model_module": "@jupyter-widgets/controls",
      "_model_module_version": "1.5.0",
      "_model_name": "HBoxModel",
      "_view_count": null,
      "_view_module": "@jupyter-widgets/controls",
      "_view_module_version": "1.5.0",
      "_view_name": "HBoxView",
      "box_style": "",
      "children": [
       "IPY_MODEL_772ec0f3f1984684bf411d1067d78136",
       "IPY_MODEL_614213b636044baba7486d9c6f92375e",
       "IPY_MODEL_12d5b937853d42e49c09aa3d0d2ddc5c"
      ],
      "layout": "IPY_MODEL_9e9a7731b710451aae7af6dc2e81c5fb"
     }
    },
    "ce9a446c4ea84a55b90d7049be41c21d": {
     "model_module": "@jupyter-widgets/controls",
     "model_module_version": "1.5.0",
     "model_name": "HBoxModel",
     "state": {
      "_dom_classes": [],
      "_model_module": "@jupyter-widgets/controls",
      "_model_module_version": "1.5.0",
      "_model_name": "HBoxModel",
      "_view_count": null,
      "_view_module": "@jupyter-widgets/controls",
      "_view_module_version": "1.5.0",
      "_view_name": "HBoxView",
      "box_style": "",
      "children": [
       "IPY_MODEL_32d53b73c1bb48b4a448810fbddcafea",
       "IPY_MODEL_c730c808b2fb46ac835dd64eabf63f85",
       "IPY_MODEL_805a7deb84534d5898bd2170e6cf6ce0"
      ],
      "layout": "IPY_MODEL_02fc1fcaa6a84cd1bad82d0ca5b2ddeb"
     }
    },
    "dfb9343116234feeb793755883ad23e6": {
     "model_module": "@jupyter-widgets/controls",
     "model_module_version": "1.5.0",
     "model_name": "HBoxModel",
     "state": {
      "_dom_classes": [],
      "_model_module": "@jupyter-widgets/controls",
      "_model_module_version": "1.5.0",
      "_model_name": "HBoxModel",
      "_view_count": null,
      "_view_module": "@jupyter-widgets/controls",
      "_view_module_version": "1.5.0",
      "_view_name": "HBoxView",
      "box_style": "",
      "children": [
       "IPY_MODEL_bf0b49adff50463181af45b4ae8240e5",
       "IPY_MODEL_193885c7358440e5a0b77df3022b7d2d",
       "IPY_MODEL_eab62ba223bd4c77b013cb4b581691b9"
      ],
      "layout": "IPY_MODEL_e92b374e9d24415d85d616e8a24ce95e"
     }
    },
    "e13915c5d4144f92b9653f1054d6cb02": {
     "model_module": "@jupyter-widgets/controls",
     "model_module_version": "1.5.0",
     "model_name": "HBoxModel",
     "state": {
      "_dom_classes": [],
      "_model_module": "@jupyter-widgets/controls",
      "_model_module_version": "1.5.0",
      "_model_name": "HBoxModel",
      "_view_count": null,
      "_view_module": "@jupyter-widgets/controls",
      "_view_module_version": "1.5.0",
      "_view_name": "HBoxView",
      "box_style": "",
      "children": [
       "IPY_MODEL_279c1255873e41e0bcecc40f1ba41a9f",
       "IPY_MODEL_576059df13044f41bc847cac2d7f6e20",
       "IPY_MODEL_fb9861759b7a466a82ea8156484460d2"
      ],
      "layout": "IPY_MODEL_91f73ebb82114c71b595b4e6575bd977"
     }
    },
    "ea2e4e65713c46f684a80451876c5ca3": {
     "model_module": "@jupyter-widgets/controls",
     "model_module_version": "1.5.0",
     "model_name": "DescriptionStyleModel",
     "state": {
      "_model_module": "@jupyter-widgets/controls",
      "_model_module_version": "1.5.0",
      "_model_name": "DescriptionStyleModel",
      "_view_count": null,
      "_view_module": "@jupyter-widgets/base",
      "_view_module_version": "1.2.0",
      "_view_name": "StyleView",
      "description_width": ""
     }
    },
    "ef9171d724e54b34b4d0235393323ead": {
     "model_module": "@jupyter-widgets/controls",
     "model_module_version": "1.5.0",
     "model_name": "FloatProgressModel",
     "state": {
      "_dom_classes": [],
      "_model_module": "@jupyter-widgets/controls",
      "_model_module_version": "1.5.0",
      "_model_name": "FloatProgressModel",
      "_view_count": null,
      "_view_module": "@jupyter-widgets/controls",
      "_view_module_version": "1.5.0",
      "_view_name": "ProgressView",
      "bar_style": "success",
      "description": "",
      "description_tooltip": null,
      "layout": "IPY_MODEL_494f0859bf314807a8ecedc36999509a",
      "max": 1730074771,
      "min": 0,
      "orientation": "horizontal",
      "style": "IPY_MODEL_98c71408b56e401e9547e65e1995f015",
      "value": 1730074771
     }
    },
    "f23f674de04044c4bd54479258686e03": {
     "model_module": "@jupyter-widgets/controls",
     "model_module_version": "1.5.0",
     "model_name": "HTMLModel",
     "state": {
      "_dom_classes": [],
      "_model_module": "@jupyter-widgets/controls",
      "_model_module_version": "1.5.0",
      "_model_name": "HTMLModel",
      "_view_count": null,
      "_view_module": "@jupyter-widgets/controls",
      "_view_module_version": "1.5.0",
      "_view_name": "HTMLView",
      "description": "",
      "description_tooltip": null,
      "layout": "IPY_MODEL_40710616999f442a91c112d9d1b83245",
      "placeholder": "​",
      "style": "IPY_MODEL_c4111741612c41ddbec7b31cf151c287",
      "value": " 1.61M/1.61M [00:00&lt;00:00, 4.04MB/s]"
     }
    },
    "fa6999b192964fd0afb40fea2ce6c696": {
     "model_module": "@jupyter-widgets/base",
     "model_module_version": "1.2.0",
     "model_name": "LayoutModel",
     "state": {
      "_model_module": "@jupyter-widgets/base",
      "_model_module_version": "1.2.0",
      "_model_name": "LayoutModel",
      "_view_count": null,
      "_view_module": "@jupyter-widgets/base",
      "_view_module_version": "1.2.0",
      "_view_name": "LayoutView",
      "align_content": null,
      "align_items": null,
      "align_self": null,
      "border": null,
      "bottom": null,
      "display": null,
      "flex": null,
      "flex_flow": null,
      "grid_area": null,
      "grid_auto_columns": null,
      "grid_auto_flow": null,
      "grid_auto_rows": null,
      "grid_column": null,
      "grid_gap": null,
      "grid_row": null,
      "grid_template_areas": null,
      "grid_template_columns": null,
      "grid_template_rows": null,
      "height": null,
      "justify_content": null,
      "justify_items": null,
      "left": null,
      "margin": null,
      "max_height": null,
      "max_width": null,
      "min_height": null,
      "min_width": null,
      "object_fit": null,
      "object_position": null,
      "order": null,
      "overflow": null,
      "overflow_x": null,
      "overflow_y": null,
      "padding": null,
      "right": null,
      "top": null,
      "visibility": null,
      "width": null
     }
    }
   }
  }
 },
 "nbformat": 4,
 "nbformat_minor": 1
}
